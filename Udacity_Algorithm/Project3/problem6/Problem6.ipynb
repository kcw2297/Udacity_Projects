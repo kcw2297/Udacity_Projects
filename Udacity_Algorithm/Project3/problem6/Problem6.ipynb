{
 "cells": [
  {
   "cell_type": "code",
   "execution_count": 16,
   "id": "75df06d6",
   "metadata": {},
   "outputs": [],
   "source": [
    "def get_min_max(ints):\n",
    "    length_list = len(ints)\n",
    "    min = ints[0]\n",
    "    max = ints[0]\n",
    "\n",
    "    for index in range(length_list):\n",
    "        if min > ints[index]:\n",
    "            min = ints[index]\n",
    "        if max < ints[index]:\n",
    "            max = ints[index]\n",
    "\n",
    "    return min, max"
   ]
  },
  {
   "cell_type": "code",
   "execution_count": 29,
   "id": "8edc3e70",
   "metadata": {},
   "outputs": [
    {
     "name": "stdout",
     "output_type": "stream",
     "text": [
      "Pass\n"
     ]
    }
   ],
   "source": [
    "import random\n",
    "\n",
    "l = [i for i in range(0, 10)]  # a list containing 0 - 9\n",
    "random.shuffle(l)\n",
    "\n",
    "print (\"Pass\" if ((0, 9) == get_min_max(l)) else \"Fail\")"
   ]
  },
  {
   "cell_type": "code",
   "execution_count": 23,
   "id": "d5acd24e",
   "metadata": {},
   "outputs": [
    {
     "name": "stdout",
     "output_type": "stream",
     "text": [
      "Pass\n"
     ]
    }
   ],
   "source": [
    "l = [i for i in range(0, 1)] \n",
    "random.shuffle(l)\n",
    "\n",
    "print (\"Pass\" if ((0, 0) == get_min_max(l)) else \"Fail\")"
   ]
  },
  {
   "cell_type": "code",
   "execution_count": 24,
   "id": "2a67c166",
   "metadata": {},
   "outputs": [
    {
     "name": "stdout",
     "output_type": "stream",
     "text": [
      "Pass\n"
     ]
    }
   ],
   "source": [
    "l = [i for i in range(1, 7)]  \n",
    "random.shuffle(l)\n",
    "\n",
    "print (\"Pass\" if ((1, 6) == get_min_max(l)) else \"Fail\")"
   ]
  }
 ],
 "metadata": {
  "kernelspec": {
   "display_name": "Python 3 (ipykernel)",
   "language": "python",
   "name": "python3"
  },
  "language_info": {
   "codemirror_mode": {
    "name": "ipython",
    "version": 3
   },
   "file_extension": ".py",
   "mimetype": "text/x-python",
   "name": "python",
   "nbconvert_exporter": "python",
   "pygments_lexer": "ipython3",
   "version": "3.9.7"
  }
 },
 "nbformat": 4,
 "nbformat_minor": 5
}
