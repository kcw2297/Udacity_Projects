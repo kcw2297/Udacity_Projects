{
 "cells": [
  {
   "cell_type": "code",
   "execution_count": 3,
   "id": "c176737c",
   "metadata": {},
   "outputs": [],
   "source": [
    "class TrieNode:\n",
    "    def __init__(self):\n",
    "        # Initialize this node in the Trie\n",
    "        self.is_word = False\n",
    "        self.children = {}\n",
    "\n",
    "    def find_words(self, prefix):\n",
    "        \"\"\"Find all words starting with given prefix\"\"\"\n",
    "        matches = []\n",
    "        if self.is_word:\n",
    "            matches += [prefix]\n",
    "        for (char, node) in self.children.items():\n",
    "            matches += node.find_words(prefix + char)\n",
    "\n",
    "        return matches\n",
    "\n",
    "    def insert(self, char):\n",
    "        self.children[char] = TrieNode()\n",
    "\n",
    "# The Trie itself containing the root node and insert/find functions\n",
    "class Trie:\n",
    "    def __init__(self):\n",
    "        # Initialize this Trie (add a root node)\n",
    "        self.root = TrieNode()\n",
    "\n",
    "    def insert(self, word):\n",
    "        # Add a word to the Trie\n",
    "        current_node = self.root\n",
    "\n",
    "        for char in word:\n",
    "            if char not in current_node.children:\n",
    "                current_node.insert(char)\n",
    "            current_node = current_node.children[char]\n",
    "        current_node.is_word = True\n",
    "\n",
    "    def find(self, prefix):\n",
    "        # Find the Trie node that represents this prefix\n",
    "        node = self.root\n",
    "        for char in prefix:\n",
    "            if char in node.children:\n",
    "                node = node.children[char]\n",
    "            else:\n",
    "                return None\n",
    "        return node\n",
    "\n",
    "    def match(self, prefix):\n",
    "        # Return all matching words in the tree\n",
    "        node = self.find(prefix)\n",
    "        if node:\n",
    "            return node.find_words(prefix)\n",
    "        else:\n",
    "            return []\n"
   ]
  },
  {
   "cell_type": "code",
   "execution_count": 4,
   "id": "2b749ee1",
   "metadata": {},
   "outputs": [],
   "source": [
    "MyTrie = Trie()\n",
    "wordList = [\n",
    "    \"ant\", \"anthology\", \"antagonist\", \"antonym\",\n",
    "    \"fun\", \"function\", \"factory\",\n",
    "    \"trie\", \"trigger\", \"trigonometry\", \"tripod\"\n",
    "]"
   ]
  },
  {
   "cell_type": "code",
   "execution_count": 5,
   "id": "ee10b468",
   "metadata": {},
   "outputs": [],
   "source": [
    "for word in wordList:\n",
    "    MyTrie.insert(word)"
   ]
  },
  {
   "cell_type": "code",
   "execution_count": 9,
   "id": "6deb94c5",
   "metadata": {},
   "outputs": [
    {
     "name": "stdout",
     "output_type": "stream",
     "text": [
      "[]\n"
     ]
    }
   ],
   "source": [
    "print(MyTrie.match(\"pop\"))"
   ]
  }
 ],
 "metadata": {
  "kernelspec": {
   "display_name": "Python 3 (ipykernel)",
   "language": "python",
   "name": "python3"
  },
  "language_info": {
   "codemirror_mode": {
    "name": "ipython",
    "version": 3
   },
   "file_extension": ".py",
   "mimetype": "text/x-python",
   "name": "python",
   "nbconvert_exporter": "python",
   "pygments_lexer": "ipython3",
   "version": "3.9.7"
  }
 },
 "nbformat": 4,
 "nbformat_minor": 5
}
