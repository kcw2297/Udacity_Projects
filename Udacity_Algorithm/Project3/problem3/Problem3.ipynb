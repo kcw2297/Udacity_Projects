{
 "cells": [
  {
   "cell_type": "code",
   "execution_count": 16,
   "id": "c57ef4b4",
   "metadata": {},
   "outputs": [],
   "source": [
    "def heapify(arr, n, i):\n",
    "    largest_index = i\n",
    "    left_node = 2 * i + 1\n",
    "    right_node = 2 * i + 2\n",
    "\n",
    "    # compare with left child\n",
    "    if left_node < n and arr[i] < arr[left_node]:\n",
    "        largest_index = left_node\n",
    "\n",
    "    # compare with right child\n",
    "    if right_node < n and arr[largest_index] < arr[right_node]:\n",
    "        largest_index = right_node\n",
    "\n",
    "    # if either of left / right child is the largest node\n",
    "    if largest_index != i:\n",
    "        arr[i], arr[largest_index] = arr[largest_index], arr[i]\n",
    "\n",
    "        heapify(arr, n, largest_index)\n",
    "    \n",
    "def heapsort(arr):\n",
    "    n = len(arr)\n",
    "\n",
    "    # Build a maxheap.\n",
    "    for i in range(n, -1, -1):\n",
    "        heapify(arr, n, i)\n",
    "\n",
    "    # One by one extract elements\n",
    "    for i in range(n-1, 0, -1):\n",
    "        arr[i], arr[0] = arr[0], arr[i] # swap\n",
    "        heapify(arr, i, 0)\n",
    "\n",
    "\n",
    "def rearrange_digits(input_list):\n",
    "    heapsort(input_list)\n",
    "\n",
    "    first_list = []\n",
    "    second_list = []\n",
    "\n",
    "    length = len(input_list)\n",
    "    if (length%2) != 0:\n",
    "        last_element = input_list[-1]\n",
    "        first_list.append(last_element)\n",
    "        input_list.remove(last_element)\n",
    "\n",
    "    for index in range(len(input_list)-1,-1,-1):\n",
    "        if index == 0:\n",
    "            second_list.append(input_list[index])\n",
    "            continue\n",
    "        elif index == 1:\n",
    "            first_list.append(input_list[index])\n",
    "            continue\n",
    "        elif (index%2)==0:\n",
    "            second_list.append(input_list[index])\n",
    "        elif (index%2)!=0:\n",
    "            first_list.append(input_list[index])\n",
    "\n",
    "\n",
    "    first_list = ''.join(map(str,first_list))\n",
    "    second_list = ''.join(map(str,second_list))\n",
    "    result = []\n",
    "    result.append(int(first_list))\n",
    "    result.append(int(second_list))\n",
    "    return result\n"
   ]
  },
  {
   "cell_type": "code",
   "execution_count": 17,
   "id": "1b018167",
   "metadata": {},
   "outputs": [
    {
     "data": {
      "text/plain": [
       "[964, 852]"
      ]
     },
     "execution_count": 17,
     "metadata": {},
     "output_type": "execute_result"
    }
   ],
   "source": [
    "rearrange_digits([4, 6, 2, 5, 9, 8])"
   ]
  },
  {
   "cell_type": "code",
   "execution_count": 18,
   "id": "4aa9ef6f",
   "metadata": {},
   "outputs": [
    {
     "data": {
      "text/plain": [
       "[542, 31]"
      ]
     },
     "execution_count": 18,
     "metadata": {},
     "output_type": "execute_result"
    }
   ],
   "source": [
    "rearrange_digits([1,2,3,4,5])"
   ]
  },
  {
   "cell_type": "code",
   "execution_count": 10,
   "id": "08a80ede",
   "metadata": {},
   "outputs": [],
   "source": [
    "def test_function(test_case):\n",
    "    output = rearrange_digits(test_case[0])\n",
    "    solution = test_case[1]\n",
    "    if sum(output) == sum(solution):\n",
    "        print(\"Pass\")\n",
    "    else:\n",
    "        print(\"Fail\")\n"
   ]
  },
  {
   "cell_type": "code",
   "execution_count": 24,
   "id": "48c4d960",
   "metadata": {},
   "outputs": [
    {
     "name": "stdout",
     "output_type": "stream",
     "text": [
      "Fail\n"
     ]
    }
   ],
   "source": [
    "test_function([[1000000000,0], [1000000000, 0]])"
   ]
  },
  {
   "cell_type": "code",
   "execution_count": 20,
   "id": "5e1aa9f6",
   "metadata": {},
   "outputs": [
    {
     "name": "stdout",
     "output_type": "stream",
     "text": [
      "Pass\n"
     ]
    }
   ],
   "source": [
    "test_function([[4, 6, 2, 5, 9, 8], [964, 852]])"
   ]
  }
 ],
 "metadata": {
  "kernelspec": {
   "display_name": "Python 3 (ipykernel)",
   "language": "python",
   "name": "python3"
  },
  "language_info": {
   "codemirror_mode": {
    "name": "ipython",
    "version": 3
   },
   "file_extension": ".py",
   "mimetype": "text/x-python",
   "name": "python",
   "nbconvert_exporter": "python",
   "pygments_lexer": "ipython3",
   "version": "3.9.7"
  }
 },
 "nbformat": 4,
 "nbformat_minor": 5
}
