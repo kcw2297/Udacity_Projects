{
 "cells": [
  {
   "cell_type": "code",
   "execution_count": 47,
   "id": "da7140a6",
   "metadata": {},
   "outputs": [],
   "source": [
    "def sqrt(num):\n",
    "    if num is not int:\n",
    "        return \"input int\"\n",
    "    \n",
    "    \n",
    "    \n",
    "    if num < 2:\n",
    "        return num\n",
    "\n",
    "\n",
    "    start = 0\n",
    "    end = num\n",
    "\n",
    "    while start < end:\n",
    "\n",
    "        mid = (start + end)//2\n",
    "        square = mid*mid\n",
    "\n",
    "        if square == num:\n",
    "            return mid\n",
    "\n",
    "        elif square < num:\n",
    "            start = mid + 1\n",
    "            result = mid\n",
    "\n",
    "        else:\n",
    "            end = mid\n",
    "    return result\n"
   ]
  },
  {
   "cell_type": "code",
   "execution_count": 48,
   "id": "2c4bb773",
   "metadata": {},
   "outputs": [
    {
     "name": "stdout",
     "output_type": "stream",
     "text": [
      "Pass\n"
     ]
    }
   ],
   "source": [
    "print (\"Pass\" if  (\"input int\" == sqrt(-1)) else \"Fail\")"
   ]
  },
  {
   "cell_type": "code",
   "execution_count": 21,
   "id": "c8dde4b9",
   "metadata": {},
   "outputs": [
    {
     "name": "stdout",
     "output_type": "stream",
     "text": [
      "Pass\n"
     ]
    }
   ],
   "source": [
    "print (\"Pass\" if  (0 == sqrt(0)) else \"Fail\")"
   ]
  },
  {
   "cell_type": "code",
   "execution_count": 22,
   "id": "ddb5d8ea",
   "metadata": {},
   "outputs": [
    {
     "name": "stdout",
     "output_type": "stream",
     "text": [
      "Pass\n"
     ]
    }
   ],
   "source": [
    "print (\"Pass\" if  (4 == sqrt(16)) else \"Fail\")"
   ]
  },
  {
   "cell_type": "code",
   "execution_count": 23,
   "id": "35be9e07",
   "metadata": {},
   "outputs": [
    {
     "name": "stdout",
     "output_type": "stream",
     "text": [
      "Pass\n"
     ]
    }
   ],
   "source": [
    "print (\"Pass\" if  (1 == sqrt(1)) else \"Fail\")"
   ]
  },
  {
   "cell_type": "code",
   "execution_count": 40,
   "id": "1ba509cf",
   "metadata": {},
   "outputs": [
    {
     "name": "stdout",
     "output_type": "stream",
     "text": [
      "Pass\n"
     ]
    }
   ],
   "source": [
    "print (\"Pass\" if  (5 == sqrt(27)) else \"Fail\")"
   ]
  }
 ],
 "metadata": {
  "kernelspec": {
   "display_name": "Python 3 (ipykernel)",
   "language": "python",
   "name": "python3"
  },
  "language_info": {
   "codemirror_mode": {
    "name": "ipython",
    "version": 3
   },
   "file_extension": ".py",
   "mimetype": "text/x-python",
   "name": "python",
   "nbconvert_exporter": "python",
   "pygments_lexer": "ipython3",
   "version": "3.9.7"
  }
 },
 "nbformat": 4,
 "nbformat_minor": 5
}
