{
 "cells": [
  {
   "cell_type": "code",
   "execution_count": 15,
   "id": "8219bee6",
   "metadata": {},
   "outputs": [],
   "source": [
    "def sort_012(input_list):\n",
    "\n",
    "    if len(input_list) < 2:\n",
    "        return input_list\n",
    "\n",
    "\n",
    "    pos_0 = 0\n",
    "    pos_2 = len(input_list) - 1\n",
    "    \n",
    "    current = 0\n",
    "\n",
    "    while current <= pos_2:\n",
    "        if input_list[current] == 0:\n",
    "            input_list[current] = input_list[pos_0]\n",
    "            input_list[pos_0] = 0\n",
    "\n",
    "            current += 1\n",
    "            pos_0 += 1\n",
    "\n",
    "\n",
    "        elif input_list[current] == 2:\n",
    "            input_list[current] = input_list[pos_2]\n",
    "            input_list[pos_2] = 2\n",
    "\n",
    "            pos_2 -= 1\n",
    "\n",
    "        else:\n",
    "            current += 1\n",
    "            \n",
    "    return input_list"
   ]
  },
  {
   "cell_type": "code",
   "execution_count": 5,
   "id": "16ca2e4b",
   "metadata": {},
   "outputs": [],
   "source": [
    "def test_function(test_case):\n",
    "    sorted_array = sort_012(test_case)\n",
    "    print(sorted_array)\n",
    "    if sorted_array == sorted(test_case):\n",
    "        print(\"Pass\")\n",
    "    else:\n",
    "        print(\"Fail\")"
   ]
  },
  {
   "cell_type": "code",
   "execution_count": 18,
   "id": "72f4d3f4",
   "metadata": {},
   "outputs": [
    {
     "name": "stdout",
     "output_type": "stream",
     "text": [
      "[]\n",
      "Pass\n"
     ]
    }
   ],
   "source": [
    "test_function([])"
   ]
  },
  {
   "cell_type": "code",
   "execution_count": 16,
   "id": "31242ba7",
   "metadata": {},
   "outputs": [
    {
     "name": "stdout",
     "output_type": "stream",
     "text": [
      "[0, 0, 0, 0, 0, 0, 0, 0, 0, 0, 0, 1, 1, 1, 1, 1, 1, 2, 2, 2, 2, 2, 2, 2, 2, 2]\n",
      "Pass\n"
     ]
    }
   ],
   "source": [
    "test_function([2, 1, 2, 0, 0, 2, 1, 0, 1, 0, 0, 2, 2, 2, 1, 2, 0, 0, 0, 2, 1, 0, 2, 0, 0, 1])"
   ]
  },
  {
   "cell_type": "code",
   "execution_count": 13,
   "id": "20d2c911",
   "metadata": {},
   "outputs": [
    {
     "name": "stdout",
     "output_type": "stream",
     "text": [
      "[0, 0, 0, 0, 0, 0, 1, 1, 1, 1, 1, 1, 2, 2, 2, 2, 2, 2, 2]\n",
      "Pass\n"
     ]
    }
   ],
   "source": [
    "test_function([0, 0, 0, 0, 0, 0, 1, 1, 1, 1, 1, 1, 2, 2, 2, 2, 2, 2, 2])"
   ]
  },
  {
   "cell_type": "code",
   "execution_count": null,
   "id": "320e679c",
   "metadata": {},
   "outputs": [],
   "source": []
  }
 ],
 "metadata": {
  "kernelspec": {
   "display_name": "Python 3 (ipykernel)",
   "language": "python",
   "name": "python3"
  },
  "language_info": {
   "codemirror_mode": {
    "name": "ipython",
    "version": 3
   },
   "file_extension": ".py",
   "mimetype": "text/x-python",
   "name": "python",
   "nbconvert_exporter": "python",
   "pygments_lexer": "ipython3",
   "version": "3.9.7"
  }
 },
 "nbformat": 4,
 "nbformat_minor": 5
}
