{
 "cells": [
  {
   "cell_type": "code",
   "execution_count": 52,
   "id": "081b5791",
   "metadata": {},
   "outputs": [],
   "source": [
    "def rotated_array_search(input_list, number):\n",
    "    \n",
    "    if number is not int:\n",
    "        return -1\n",
    "    \n",
    "    return recursive(input_list, number, 0, len(input_list)-1)\n",
    "\n",
    "\n",
    "\n",
    "def recursive(input_list, number, start, end):\n",
    "    if start > end:\n",
    "        return -1\n",
    "\n",
    "    mid_index = start + (end - start)//2\n",
    "    mid_element = input_list[mid_index]\n",
    "\n",
    "    if mid_element == number:\n",
    "        return mid_index\n",
    "\n",
    "    if input_list[start] <= mid_element:\n",
    "        if mid_element > number and input_list[start] <= number:\n",
    "            return recursive(input_list, number, start, mid_index -1)\n",
    "        return recursive(input_list, number, mid_index+1, end)\n",
    "\n",
    "    if mid_element < number and input_list[end] >= number:\n",
    "        return recursive(input_list, number, mid_index+1, end)\n",
    "    return recursive(input_list, number, start, mid_index-1)"
   ]
  },
  {
   "cell_type": "code",
   "execution_count": 24,
   "id": "cccfad06",
   "metadata": {},
   "outputs": [],
   "source": [
    "def linear_search(input_list, number):\n",
    "    for index, element in enumerate(input_list):\n",
    "        if element == number:\n",
    "            return index\n",
    "    return -1"
   ]
  },
  {
   "cell_type": "code",
   "execution_count": 25,
   "id": "2e567841",
   "metadata": {},
   "outputs": [],
   "source": [
    "def test_function(test_case):\n",
    "    input_list = test_case[0]\n",
    "    number = test_case[1]\n",
    "    if linear_search(input_list, number) == rotated_array_search(input_list, number):\n",
    "        print(\"Pass\")\n",
    "    else:\n",
    "        print(\"Fail\")"
   ]
  },
  {
   "cell_type": "code",
   "execution_count": 49,
   "id": "58aa59a0",
   "metadata": {},
   "outputs": [
    {
     "name": "stdout",
     "output_type": "stream",
     "text": [
      "Pass\n"
     ]
    }
   ],
   "source": [
    "test_function([[6, 7, 8, 9, 10, 1, 2, 3, 4], 100])"
   ]
  },
  {
   "cell_type": "code",
   "execution_count": 54,
   "id": "46ba14ec",
   "metadata": {},
   "outputs": [
    {
     "name": "stdout",
     "output_type": "stream",
     "text": [
      "Pass\n"
     ]
    }
   ],
   "source": [
    "test_function([[6, 7, 8, 9, 10, 1, 2, 3, 4], 0])"
   ]
  },
  {
   "cell_type": "code",
   "execution_count": 53,
   "id": "af019326",
   "metadata": {},
   "outputs": [
    {
     "name": "stdout",
     "output_type": "stream",
     "text": [
      "Pass\n"
     ]
    }
   ],
   "source": [
    "test_function([[6, 7, 8, 1, 2, 3, 4], \"dfd\"])"
   ]
  },
  {
   "cell_type": "code",
   "execution_count": 46,
   "id": "a96dd86b",
   "metadata": {},
   "outputs": [
    {
     "name": "stdout",
     "output_type": "stream",
     "text": [
      "Pass\n"
     ]
    }
   ],
   "source": [
    "test_function([[6, 7, 8, 1, 2, 3, 4], 1])"
   ]
  },
  {
   "cell_type": "code",
   "execution_count": 47,
   "id": "44a0e334",
   "metadata": {},
   "outputs": [
    {
     "name": "stdout",
     "output_type": "stream",
     "text": [
      "Pass\n"
     ]
    }
   ],
   "source": [
    "test_function([[6, 7, 8, 1, 2, 3, 4], 10])"
   ]
  },
  {
   "cell_type": "code",
   "execution_count": null,
   "id": "febbbb58",
   "metadata": {},
   "outputs": [],
   "source": []
  }
 ],
 "metadata": {
  "kernelspec": {
   "display_name": "Python 3 (ipykernel)",
   "language": "python",
   "name": "python3"
  },
  "language_info": {
   "codemirror_mode": {
    "name": "ipython",
    "version": 3
   },
   "file_extension": ".py",
   "mimetype": "text/x-python",
   "name": "python",
   "nbconvert_exporter": "python",
   "pygments_lexer": "ipython3",
   "version": "3.9.7"
  }
 },
 "nbformat": 4,
 "nbformat_minor": 5
}
