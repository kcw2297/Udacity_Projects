{
 "cells": [
  {
   "cell_type": "code",
   "execution_count": 1,
   "id": "9d210dae",
   "metadata": {},
   "outputs": [],
   "source": [
    "import os\n",
    "\n",
    "def find_files(suffix, path):\n",
    "    if suffix == '':\n",
    "        return []\n",
    "    \n",
    "    if len(os.listdir(path)) == 0:\n",
    "        return []\n",
    "    \n",
    "    path_elements = os.listdir(path)\n",
    "    path_files = [file for file in path_elements if '.'+ suffix in file]\n",
    "    path_folders = [folder for folder in path_elements if '.' not in folder]\n",
    "    \n",
    "    for folder in path_folders:\n",
    "        path_files.extend(find_files(suffix=suffix, path = path + '/' + folder))\n",
    "    \n",
    "    return path_files\n"
   ]
  },
  {
   "cell_type": "code",
   "execution_count": 2,
   "id": "4d29a8da",
   "metadata": {},
   "outputs": [
    {
     "name": "stdout",
     "output_type": "stream",
     "text": [
      "[]\n",
      "[]\n"
     ]
    }
   ],
   "source": [
    "path = os.getcwd()\n",
    "print(find_files('c',path))\n",
    "\n",
    "print(find_files(None,path))\n",
    "\n",
    "print(find_files('',path))"
   ]
  }
 ],
 "metadata": {
  "kernelspec": {
   "display_name": "Python 3 (ipykernel)",
   "language": "python",
   "name": "python3"
  },
  "language_info": {
   "codemirror_mode": {
    "name": "ipython",
    "version": 3
   },
   "file_extension": ".py",
   "mimetype": "text/x-python",
   "name": "python",
   "nbconvert_exporter": "python",
   "pygments_lexer": "ipython3",
   "version": "3.9.7"
  }
 },
 "nbformat": 4,
 "nbformat_minor": 5
}
