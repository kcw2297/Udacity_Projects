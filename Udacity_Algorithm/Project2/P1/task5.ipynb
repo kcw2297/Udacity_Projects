{
 "cells": [
  {
   "cell_type": "code",
   "execution_count": 1,
   "id": "6a4828a6",
   "metadata": {},
   "outputs": [],
   "source": [
    "import hashlib\n",
    "import datetime\n",
    "\n",
    "\n",
    "class Block:\n",
    "\n",
    "    def __init__(self, timestamp, data, previous_hash):\n",
    "      self.timestamp = timestamp\n",
    "      self.data = data\n",
    "      self.previous_hash = previous_hash\n",
    "      self.hash = self.calc_hash()\n",
    "        \n",
    "        \n",
    "    def calc_hash(self):\n",
    "      sha = hashlib.sha256()\n",
    "\n",
    "      hash_str = self.data.encode('utf-8')\n",
    "\n",
    "      sha.update(hash_str)\n",
    "\n",
    "      return sha.hexdigest()\n",
    "    \n",
    "    def __str__(self):\n",
    "        return f'Timestamp: {self.timestamp}\\nData: {self.data}\\nPrevious Hash: {self.previous_hash}\\nHash: {self.hash}'"
   ]
  },
  {
   "cell_type": "code",
   "execution_count": 2,
   "id": "4a71ed94",
   "metadata": {},
   "outputs": [],
   "source": [
    "class BlockChain:\n",
    "    def __init__(self):\n",
    "        self.current_block = None\n",
    "        \n",
    "    def add_block(self,value):\n",
    "        timestamp = datetime.datetime.now()\n",
    "        data = value\n",
    "        previous_hash = self.current_block.hash if self.current_block else 0\n",
    "        self.current_block = Block(timestamp,data,previous_hash)\n",
    "\n",
    "        "
   ]
  },
  {
   "cell_type": "markdown",
   "id": "131a418a",
   "metadata": {},
   "source": [
    "### TEST 1"
   ]
  },
  {
   "cell_type": "code",
   "execution_count": 3,
   "id": "90d8a17e",
   "metadata": {},
   "outputs": [
    {
     "name": "stdout",
     "output_type": "stream",
     "text": [
      "Timestamp: 2021-12-04 20:53:00.752743\n",
      "Data: hahahah\n",
      "Previous Hash: 0\n",
      "Hash: ae0f7dccec3e14a7bc1fd55b2f75a30f2682c705dcea9c6dcb9b8d6d23896c6f\n"
     ]
    }
   ],
   "source": [
    "blockchain1 = BlockChain()\n",
    "blockchain1.add_block(\"hahahah\")\n",
    "print(blockchain1.current_block)"
   ]
  },
  {
   "cell_type": "markdown",
   "id": "f631c691",
   "metadata": {},
   "source": [
    "### TEST 2"
   ]
  },
  {
   "cell_type": "code",
   "execution_count": 4,
   "id": "f96d07c9",
   "metadata": {},
   "outputs": [
    {
     "name": "stdout",
     "output_type": "stream",
     "text": [
      "Timestamp: 2021-12-04 20:53:01.959878\n",
      "Data: \n",
      "Previous Hash: 0\n",
      "Hash: e3b0c44298fc1c149afbf4c8996fb92427ae41e4649b934ca495991b7852b855\n",
      "Timestamp: 2021-12-04 20:53:01.960876\n",
      "Data: test\n",
      "Previous Hash: 0\n",
      "Hash: 9f86d081884c7d659a2feaa0c55ad015a3bf4f1b2b0b822cd15d6c15b0f00a08\n",
      "Timestamp: 2021-12-04 20:53:01.960876\n",
      "Data: gogo\n",
      "Previous Hash: 9f86d081884c7d659a2feaa0c55ad015a3bf4f1b2b0b822cd15d6c15b0f00a08\n",
      "Hash: 16af0577252ea2fc2b73260d8fe6a4e73155e9f83bb234588b561ab01c9bca6b\n"
     ]
    }
   ],
   "source": [
    "blockchain2 = BlockChain()\n",
    "blockchain2.add_block(\"\")\n",
    "print(blockchain2.current_block)\n",
    "\n",
    "blockchain3 = BlockChain()\n",
    "blockchain3.add_block(\"test\")\n",
    "print(blockchain3.current_block)\n",
    "\n",
    "blockchain3.add_block(\"gogo\")\n",
    "print(blockchain3.current_block)"
   ]
  },
  {
   "cell_type": "code",
   "execution_count": 6,
   "id": "d8c7a536",
   "metadata": {},
   "outputs": [
    {
     "name": "stdout",
     "output_type": "stream",
     "text": [
      "<__main__.BlockChain object at 0x000002429CEC60D0>\n"
     ]
    }
   ],
   "source": []
  }
 ],
 "metadata": {
  "kernelspec": {
   "display_name": "Python 3 (ipykernel)",
   "language": "python",
   "name": "python3"
  },
  "language_info": {
   "codemirror_mode": {
    "name": "ipython",
    "version": 3
   },
   "file_extension": ".py",
   "mimetype": "text/x-python",
   "name": "python",
   "nbconvert_exporter": "python",
   "pygments_lexer": "ipython3",
   "version": "3.9.7"
  }
 },
 "nbformat": 4,
 "nbformat_minor": 5
}
