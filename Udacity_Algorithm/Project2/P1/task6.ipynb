{
 "cells": [
  {
   "cell_type": "code",
   "execution_count": 34,
   "id": "473ababc",
   "metadata": {},
   "outputs": [],
   "source": [
    "class Node:\n",
    "    def __init__(self, value):\n",
    "        self.value = value\n",
    "        self.next = None\n",
    "\n",
    "    def __repr__(self):\n",
    "        return str(self.value)\n",
    "\n",
    "\n",
    "class LinkedList:\n",
    "    def __init__(self):\n",
    "        self.head = None\n",
    "\n",
    "    def __str__(self):\n",
    "        if self.head is None:\n",
    "            return \"There is empty list\"\n",
    "        cur_head = self.head\n",
    "        out_string = \"\"\n",
    "        while cur_head:\n",
    "            out_string += str(cur_head.value) + \" -> \"\n",
    "            cur_head = cur_head.next\n",
    "        return out_string\n",
    "\n",
    "\n",
    "    def append(self, value):\n",
    "\n",
    "        if self.head is None:\n",
    "            self.head = Node(value)\n",
    "            return\n",
    "\n",
    "        node = self.head\n",
    "        while node.next:\n",
    "            node = node.next\n",
    "\n",
    "        node.next = Node(value)\n",
    "\n",
    "    def size(self):\n",
    "        size = 0\n",
    "        node = self.head\n",
    "        while node:\n",
    "            size += 1\n",
    "            node = node.next\n",
    "        return size\n",
    "\n",
    "def union(llist_1, llist_2):\n",
    "    node = llist_1.head\n",
    "    if node is None:\n",
    "        return llist_2\n",
    "        \n",
    "    while node.next:\n",
    "        node = node.next\n",
    "    node.next = llist_2.head\n",
    "    return llist_1\n",
    "    \n",
    "    \n",
    "def intersection(llist_1, llist_2):\n",
    "    intersection = LinkedList()\n",
    "    temp_dic = {}\n",
    "    node = llist_1.head\n",
    "    while node:\n",
    "        if node.value not in temp_dic:\n",
    "            temp_dic[node.value] = 0\n",
    "        temp_dic[node.value] += 1\n",
    "        node = node.next\n",
    "\n",
    "    node = llist_2.head\n",
    "    while node:\n",
    "        if node.value in temp_dic:\n",
    "            new_node = Node(node.value)\n",
    "            intersection.append(new_node)\n",
    "            temp_dic[node.value] -= 1\n",
    "            if temp_dic[node.value] < 1:\n",
    "                del temp_dic[node.value]\n",
    "        node = node.next\n",
    "\n",
    "    return intersection"
   ]
  },
  {
   "cell_type": "code",
   "execution_count": 29,
   "id": "aadb2430",
   "metadata": {},
   "outputs": [
    {
     "name": "stdout",
     "output_type": "stream",
     "text": [
      "3 -> 2 -> 4 -> 35 -> 6 -> 65 -> 6 -> 4 -> 3 -> 21 -> 6 -> 32 -> 4 -> 9 -> 6 -> 1 -> 11 -> 21 -> 1 -> \n",
      "6 -> 32 -> 4 -> 9 -> 6 -> 1 -> 11 -> 21 -> 1 -> \n"
     ]
    }
   ],
   "source": [
    "linked_list_1 = LinkedList()\n",
    "linked_list_2 = LinkedList()\n",
    "\n",
    "element_1 = [3,2,4,35,6,65,6,4,3,21]\n",
    "element_2 = [6,32,4,9,6,1,11,21,1]\n",
    "\n",
    "for i in element_1:\n",
    "    linked_list_1.append(i)\n",
    "\n",
    "for i in element_2:\n",
    "    linked_list_2.append(i)\n",
    "\n",
    "print (union(linked_list_1,linked_list_2))\n",
    "print (intersection(linked_list_1,linked_list_2))"
   ]
  },
  {
   "cell_type": "code",
   "execution_count": 32,
   "id": "2e06c0b0",
   "metadata": {},
   "outputs": [
    {
     "name": "stdout",
     "output_type": "stream",
     "text": [
      "6 -> 32 -> 4 -> 9 -> 6 -> 1 -> 11 -> 21 -> 1 -> \n",
      "\n"
     ]
    }
   ],
   "source": [
    "linked_list_1 = LinkedList()\n",
    "linked_list_2 = LinkedList()\n",
    "\n",
    "element_1 = []\n",
    "element_2 = [6,32,4,9,6,1,11,21,1]\n",
    "\n",
    "for i in element_1:\n",
    "    linked_list_1.append(i)\n",
    "\n",
    "for i in element_2:\n",
    "    linked_list_2.append(i)\n",
    "\n",
    "print (union(linked_list_1,linked_list_2))\n",
    "print (intersection(linked_list_1,linked_list_2))"
   ]
  },
  {
   "cell_type": "code",
   "execution_count": 28,
   "id": "50a225b7",
   "metadata": {},
   "outputs": [
    {
     "name": "stdout",
     "output_type": "stream",
     "text": [
      "it is empty list\n",
      "it is empty list\n"
     ]
    }
   ],
   "source": [
    "linked_list_1 = LinkedList()\n",
    "linked_list_2 = LinkedList()\n",
    "\n",
    "element_1 = []\n",
    "element_2 = []\n",
    "\n",
    "for i in element_1:\n",
    "    linked_list_1.append(i)\n",
    "\n",
    "for i in element_2:\n",
    "    linked_list_2.append(i)\n",
    "\n",
    "print (union(linked_list_1,linked_list_2))\n",
    "print (intersection(linked_list_1,linked_list_2))"
   ]
  }
 ],
 "metadata": {
  "kernelspec": {
   "display_name": "Python 3 (ipykernel)",
   "language": "python",
   "name": "python3"
  },
  "language_info": {
   "codemirror_mode": {
    "name": "ipython",
    "version": 3
   },
   "file_extension": ".py",
   "mimetype": "text/x-python",
   "name": "python",
   "nbconvert_exporter": "python",
   "pygments_lexer": "ipython3",
   "version": "3.9.7"
  }
 },
 "nbformat": 4,
 "nbformat_minor": 5
}
