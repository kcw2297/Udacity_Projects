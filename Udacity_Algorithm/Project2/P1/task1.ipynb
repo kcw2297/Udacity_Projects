{
 "cells": [
  {
   "cell_type": "code",
   "execution_count": 29,
   "id": "ae561a14",
   "metadata": {},
   "outputs": [],
   "source": [
    "class Node:\n",
    "    def __init__(self,key,val):\n",
    "        self.key = key\n",
    "        self.val = val\n",
    "        self.next = None\n",
    "        self.previous = None\n",
    "\n",
    "class LRU_Cache(object):\n",
    "\n",
    "    def __init__(self, capacity):\n",
    "        self.head = Node(\"head\",\"head\")\n",
    "        self.tail = Node(\"tail\",\"tail\")\n",
    "        self.head.next = self.tail\n",
    "        self.tail.previous = self.head\n",
    "        self.max_size = capacity\n",
    "        self.curr_size = 0\n",
    "        self.dic = {}\n",
    "        \n",
    "        \n",
    "    def removeNode(self, node):\n",
    "        # Remove the node and connect previous and next node\n",
    "        prev_node, next_node = node.previous, node.next\n",
    "        prev_node.next, next_node.previous = node.next, node.previous\n",
    "        \n",
    "    \n",
    "    def moveToFront(self, node):\n",
    "        # Move the node to the front(in front of head node)\n",
    "        next_node = self.head.next\n",
    "        node.next = next_node\n",
    "        next_node.previous = node\n",
    "        node.previous = self.head\n",
    "        self.head.next = node\n",
    "        \n",
    "        \n",
    "\n",
    "    def get(self, key):\n",
    "        if key not in self.dic:\n",
    "            return -1\n",
    "        node = self.dic[key]\n",
    "        self.removeNode(node) #Remove the node in order to move to the front\n",
    "        self.moveToFront(node) #Move the recent used node to the front\n",
    "        return node.val\n",
    "        \n",
    "        \n",
    "    \n",
    "    def set(self, key, val):\n",
    "        if self.max_size <= 0:\n",
    "            return None\n",
    "        if key in self.dic:\n",
    "            node = self.dic[key]\n",
    "            node.val = val\n",
    "            self.removeNode(node)\n",
    "            self.moveToFront(node)\n",
    "        else:\n",
    "            if self.curr_size >= self.max_size:\n",
    "                old_node = self.tail.previous\n",
    "                del self.dic[old_node.key]\n",
    "                self.removeNode(old_node)\n",
    "                self.curr_size -= 1\n",
    "                \n",
    "            new_node = Node(key,val)\n",
    "            self.dic[key] = new_node\n",
    "            self.moveToFront(new_node)\n",
    "            self.curr_size += 1\n",
    "                "
   ]
  },
  {
   "cell_type": "code",
   "execution_count": 30,
   "id": "b756250f",
   "metadata": {},
   "outputs": [
    {
     "name": "stdout",
     "output_type": "stream",
     "text": [
      "-1\n",
      "-1\n",
      "-1\n",
      "-1\n"
     ]
    }
   ],
   "source": [
    "our_cache = LRU_Cache(-1)\n",
    "\n",
    "our_cache.set(1, 1);\n",
    "our_cache.set(2, 2);\n",
    "our_cache.set(3, 3);\n",
    "our_cache.set(4, 4);\n",
    "\n",
    "\n",
    "print(our_cache.get(1))       # returns 1\n",
    "print(our_cache.get(2))       # returns 2\n",
    "print(our_cache.get(9))      # returns -1 because 9 is not present in the cache\n",
    "\n",
    "our_cache.set(5, 5) \n",
    "our_cache.set(6, 6)\n",
    "\n",
    "print(our_cache.get(3))     # returns -1 because the cache reached it's capacity and 3 was the least recently used entry\n"
   ]
  }
 ],
 "metadata": {
  "kernelspec": {
   "display_name": "Python 3 (ipykernel)",
   "language": "python",
   "name": "python3"
  },
  "language_info": {
   "codemirror_mode": {
    "name": "ipython",
    "version": 3
   },
   "file_extension": ".py",
   "mimetype": "text/x-python",
   "name": "python",
   "nbconvert_exporter": "python",
   "pygments_lexer": "ipython3",
   "version": "3.9.7"
  }
 },
 "nbformat": 4,
 "nbformat_minor": 5
}
